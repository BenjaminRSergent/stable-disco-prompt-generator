{
 "cells": [
  {
   "cell_type": "code",
   "execution_count": 2,
   "id": "90c2d4dc-f704-43de-9dcd-dfd7750dbdbb",
   "metadata": {},
   "outputs": [],
   "source": [
    "%load_ext autoreload\n",
    "%load_ext tensorboard\n",
    "%autoreload 2\n",
    "import os\n",
    "import sys\n",
    "\n",
    "import clip\n",
    "\n",
    "import importlib\n",
    "\n",
    "import contextlib\n",
    "\n",
    "import json\n",
    "import os\n",
    "import random\n",
    "\n",
    "\n",
    "sys.path.insert(0, os.path.abspath('../..')) \n",
    "sys.path.insert(0, os.path.abspath('../../..'))\n",
    "\n",
    "import numpy as np\n",
    "import torch \n",
    "from collections import defaultdict\n",
    "from utils import get_default_path\n",
    "from utils import Stopwatch\n",
    "import time\n",
    "import datetime\n",
    "\n",
    "\n",
    "import ai.stabledisco as sd\n",
    "import ai.torchmodules as torchmodules\n",
    "import ai.torchmodules.data as torchdata\n",
    "import ai.torchmodules.utils as torchutils\n",
    "import ai.stabledisco.utils as sdutils\n",
    "import ai.stabledisco.data as sddata\n",
    "import ai.stabledisco.constants as sdconsts\n",
    "import ai.torchmodules.pruning as torchprune\n",
    "import torch\n",
    "import torch.nn as nn\n",
    "import pandas as pd\n",
    "\n",
    "from clip.clip import _tokenizer as clip_tokenizer\n",
    "import ai.stabledisco.decoderpipeline as decoderpipeline\n",
    "  \n",
    "tmp_dir =  \"/home/ubuntu/tmp/\"\n",
    "tokens_path = os.path.join(tmp_dir, \"text_tokens.pk\")"
   ]
  },
  {
   "cell_type": "code",
   "execution_count": 3,
   "id": "b970cccf-1a5a-4482-8be5-6b6b11a2f2cd",
   "metadata": {},
   "outputs": [],
   "source": [
    "text_tokens = torch.load(tokens_path)"
   ]
  },
  {
   "cell_type": "code",
   "execution_count": 4,
   "id": "5551d14c-68e3-43b2-921f-6652fa5f8a18",
   "metadata": {},
   "outputs": [],
   "source": [
    "if len(text_tokens.shape) > 1:\n",
    "    text_tokens.view(1, text_tokens.size(0))\n",
    "flipped = torch.flip(text_tokens, dims=(1,))\n",
    "end_idx_arg = torch.argwhere(flipped == sdconsts.eot_token)[:,1]\n",
    "for idx in range(flipped.size(0)):\n",
    "    flipped[idx] = torch.cat((flipped[idx,end_idx_arg[idx]:], flipped[idx,:end_idx_arg[idx]]))\n",
    "return flipped\n"
   ]
  },
  {
   "cell_type": "code",
   "execution_count": 9,
   "id": "7d25e7d8-bd85-460f-bcaa-53c2b1a10e1e",
   "metadata": {},
   "outputs": [],
   "source": []
  },
  {
   "cell_type": "code",
   "execution_count": 11,
   "id": "4cfbb8e4-5f48-4aef-93b1-1bd1907aa24a",
   "metadata": {},
   "outputs": [],
   "source": [
    "rev_tokens_path = os.path.join(tmp_dir, \"rev_text_tokens.pk\")\n",
    "text_tokens = torch.save(flipped, rev_tokens_path)"
   ]
  }
 ],
 "metadata": {
  "kernelspec": {
   "display_name": "stable-disco",
   "language": "python",
   "name": "stable-disco"
  },
  "language_info": {
   "codemirror_mode": {
    "name": "ipython",
    "version": 3
   },
   "file_extension": ".py",
   "mimetype": "text/x-python",
   "name": "python",
   "nbconvert_exporter": "python",
   "pygments_lexer": "ipython3",
   "version": "3.8.5"
  }
 },
 "nbformat": 4,
 "nbformat_minor": 5
}
