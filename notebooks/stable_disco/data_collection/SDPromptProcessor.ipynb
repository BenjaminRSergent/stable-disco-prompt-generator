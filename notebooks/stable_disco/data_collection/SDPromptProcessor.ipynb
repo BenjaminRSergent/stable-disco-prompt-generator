{
 "cells": [
  {
   "cell_type": "code",
   "execution_count": 9,
   "id": "09f93330-fb7f-459d-8499-421803ca12f7",
   "metadata": {},
   "outputs": [
    {
     "name": "stdout",
     "output_type": "stream",
     "text": [
      "The autoreload extension is already loaded. To reload it, use:\n",
      "  %reload_ext autoreload\n",
      "The tensorboard extension is already loaded. To reload it, use:\n",
      "  %reload_ext tensorboard\n"
     ]
    }
   ],
   "source": [
    "%load_ext autoreload\n",
    "%load_ext tensorboard\n",
    "%autoreload 2\n",
    "import os\n",
    "import sys\n",
    "sys.path.insert(0, os.path.abspath('..'))\n",
    "sys.path.insert(0, os.path.abspath('../..'))\n",
    "\n",
    "import importlib\n",
    "\n",
    "import contextlib\n",
    "\n",
    "import json\n",
    "import os\n",
    "import random\n",
    "\n",
    "import numpy as np\n",
    "import torch\n",
    "from collections import defaultdict\n",
    "from utils import get_default_path\n",
    "import time\n",
    "from utils import Stopwatch\n",
    "import datetime\n",
    "\n",
    "import ai.stabledisco as sd\n",
    "import ai.torchmodules as torchmodules\n",
    "import ai.torchmodules.data as torchdata\n",
    "import ai.torchmodules.utils as torchutils\n",
    "import ai.stabledisco.utils as sdutils\n",
    "import clip\n",
    "import torch\n",
    "import torch.nn as nn\n",
    "import pandas as pd"
   ]
  },
  {
   "cell_type": "code",
   "execution_count": 2,
   "id": "6d2a463a-cdd2-4b81-9c8a-c7b55bda163f",
   "metadata": {},
   "outputs": [],
   "source": [
    "df_path = get_default_path(\"large_datasets\", \"aug_prompts.feather\")\n",
    "prompt_dataframe = pd.read_feather(df_path)"
   ]
  },
  {
   "cell_type": "code",
   "execution_count": 4,
   "id": "0e4a5823-c4b1-4596-8295-965e6c6b9ba0",
   "metadata": {},
   "outputs": [],
   "source": [
    "df_path = get_default_path(\"sd_discord\", \"sd_wave2_dataframe.feather\")\n",
    "discord_prompt_dataframe = pd.read_feather(df_path)"
   ]
  },
  {
   "cell_type": "code",
   "execution_count": 36,
   "id": "e1d76e7f-be9c-4a42-8faf-ea69bfe9a889",
   "metadata": {},
   "outputs": [
    {
     "name": "stdout",
     "output_type": "stream",
     "text": [
      "3221483\n",
      "1285619\n"
     ]
    }
   ],
   "source": [
    "print(len(prompt_dataframe))\n",
    "print(len(rows))"
   ]
  },
  {
   "cell_type": "code",
   "execution_count": 7,
   "id": "9befe588-e39d-49b4-91d0-4b0b5ee918c1",
   "metadata": {},
   "outputs": [],
   "source": [
    "rows = []\n",
    "for row in discord_prompt_dataframe.itertuples():\n",
    "    rows.append({\"prompt\": row.prompt,\n",
    "           \"text_tokens\": row.text_tokens,\n",
    "           \"aesthetic\": None})"
   ]
  },
  {
   "cell_type": "code",
   "execution_count": null,
   "id": "77cdfb23-4106-4fbc-abc4-ea733c379951",
   "metadata": {},
   "outputs": [],
   "source": []
  },
  {
   "cell_type": "code",
   "execution_count": 32,
   "id": "56261b17-e9cc-4570-9c2e-5b3fef97f8b9",
   "metadata": {},
   "outputs": [],
   "source": [
    "prompt_dataframe = pd.concat([prompt_dataframe, pd.DataFrame.from_records(rows)], ignore_index=True)\n"
   ]
  },
  {
   "cell_type": "code",
   "execution_count": 12,
   "id": "ed257a0f-a960-4053-96b2-c93e8db52741",
   "metadata": {},
   "outputs": [
    {
     "name": "stdout",
     "output_type": "stream",
     "text": [
      "1285619\n"
     ]
    }
   ],
   "source": [
    "print(len(rows))"
   ]
  },
  {
   "cell_type": "code",
   "execution_count": 35,
   "id": "e012215e-73d4-4c33-8af0-f77ca5d0c555",
   "metadata": {},
   "outputs": [],
   "source": [
    "prompt_dataframe = prompt_dataframe.reset_index(drop=True)\n",
    "prompt_dataframe.drop_duplicates(subset=\"prompt\", ignore_index=True, inplace=True)\n",
    "prompt_dataframe = prompt_dataframe.sample(frac=1).reset_index(drop=True)"
   ]
  },
  {
   "cell_type": "code",
   "execution_count": 15,
   "id": "df96fc3c-b71f-4355-a242-b1e41508bbd2",
   "metadata": {},
   "outputs": [],
   "source": [
    "df_path = get_default_path(\"large_datasets\", \"aug_prompts.feather\")\n",
    "prompt_dataframe.to_feather(df_path)"
   ]
  },
  {
   "cell_type": "code",
   "execution_count": 30,
   "id": "9e2c1b80-6833-4dbc-82a8-5e66216ec31c",
   "metadata": {},
   "outputs": [],
   "source": [
    "prompt_dataframe = pd.DataFrame({\n",
    "    \"prompt\": [],\n",
    "    \"cfg\": [],\n",
    "    \"width\": [],\n",
    "    \"height\": [],\n",
    "    \"num_imgs\": [],\n",
    "    \"sampler\": [],\n",
    "    \"is_grid\": [],\n",
    "    \"steps\": [],\n",
    "    \"seed\": [],\n",
    "    \"urls\": [],\n",
    "    \"date\": [],\n",
    "    \"user\": [],\n",
    "}) "
   ]
  },
  {
   "cell_type": "code",
   "execution_count": 9,
   "id": "09213285-ae27-43df-9d51-3e84bd2918f5",
   "metadata": {},
   "outputs": [],
   "source": [
    "sd_discord = get_default_path(\"sd_discord2\")\n",
    "json_paths = [path for path in os.listdir(sd_discord) if path.endswith(\".json\")]\n",
    "json_paths = [\"DreamStudio - Art bots - art-gen [970175047891308544].json\"]\n",
    "messages = []\n",
    "\n",
    "def is_prompt_message(msg):\n",
    "    return msg[\"author\"][\"isBot\"] and \"content\" in msg and msg[\"content\"].startswith(\"Dreamt\")\n",
    "\n",
    "for file_name in json_paths:\n",
    "    file_path = os.path.join(sd_discord, file_name)\n",
    "    with open(file_path, 'r') as discord_file:\n",
    "        messages += [msg for msg in json.load(discord_file)['messages'] if is_prompt_message(msg)]"
   ]
  },
  {
   "cell_type": "code",
   "execution_count": null,
   "id": "60ee2503-3b56-41c7-83db-14b592e64e5c",
   "metadata": {},
   "outputs": [],
   "source": [
    "import re\n",
    "from storage.data.command.stablediscoprompt import StableDiscoPrompt\n",
    "print(len(messages))\n",
    "seen = set()\n",
    "\n",
    "def add_to_rows(rows, discord_json, dry_run=False):\n",
    "    content = discord_json[\"content\"].lower()\n",
    "    multi_command_idx = content.find(\"The commands\")\n",
    "    if multi_command_idx != -1:\n",
    "        content = content[:multi_command_idx]\n",
    "        \n",
    "    \n",
    "    if not discord_json[\"attachments\"]:\n",
    "        print(f\"No attachment for {content}\")\n",
    "        return\n",
    "    \n",
    "        \n",
    "    content = re.sub(r\"\\s\", \" \", content)\n",
    "    prompt_str = re.findall(r'(?<=!dream )\".*\".*-.*(?=`)', content)\n",
    "    if not prompt_str:\n",
    "        prompt_str = re.findall(r'(?<=!dream \").*(?=\" -)',content )\n",
    "    if not prompt_str:\n",
    "        prompt_str = re.findall(r'(?<=dreamt of \").*(?=\")',content )\n",
    "    if not prompt_str:\n",
    "        print(f\"Failed to extract {content}\")\n",
    "        print()\n",
    "        return\n",
    "    prompt_str = prompt_str[0]\n",
    "    cut_idx = re.search(r\"[` ]*(\\*\\*|\\*\\*WARNING\\*\\*|The seeds for each individual image are)\", prompt_str) \n",
    "\n",
    "    if cut_idx:\n",
    "        cut_idx = cut_idx.span()[0]\n",
    "        prompt_str = prompt_str[:cut_idx]\n",
    "    \n",
    "    try:\n",
    "        command = StableDiscoPrompt.from_str(prompt_str) \n",
    "    except Exception as ex:\n",
    "        print(f\"Can't extract prompt from {prompt_str}\\n full str {content}\")\n",
    "        print(ex)\n",
    "        print()\n",
    "        return\n",
    "    \n",
    "    prompt = command.prompt\n",
    "    first_quote = prompt.find(\"\\\"\")\n",
    "    prompt = prompt[:first_quote] + prompt[first_quote+1:]\n",
    "    \n",
    "    last_quote = prompt.rfind(\"\\\"\")\n",
    "    prompt = prompt[:last_quote] + prompt[last_quote+1:]\n",
    "    prompt = prompt.strip()\n",
    "    if prompt in seen:\n",
    "        return\n",
    "    seen.add(prompt)\n",
    "        \n",
    "    \n",
    "        \n",
    "    row = {\"prompt\": prompt,\n",
    "           \"text_tokens\": None,\n",
    "           \"aesthetic\": None}\n",
    "\n",
    "    rows.append(row)\n",
    "    \n",
    "rows = []\n",
    "for idx, msg in enumerate(messages):\n",
    "    if idx != 0 and idx % 100000 == 0:\n",
    "        print(f\"Finished {idx} of {len(messages)}\")\n",
    "    try:\n",
    "        add_to_rows(rows, msg)\n",
    "    except Exception as ex:\n",
    "        print(ex)\n",
    "        raise(ex)"
   ]
  },
  {
   "cell_type": "code",
   "execution_count": 29,
   "id": "92eb42a4-d3e0-4c75-8dc8-60c57e756c60",
   "metadata": {},
   "outputs": [],
   "source": []
  },
  {
   "cell_type": "code",
   "execution_count": null,
   "id": "670afbf7-6115-4cca-bf63-f117deb4ab5f",
   "metadata": {},
   "outputs": [],
   "source": [
    "print(len())"
   ]
  },
  {
   "cell_type": "code",
   "execution_count": null,
   "id": "39957d87-b718-427c-b705-da9b6fbec390",
   "metadata": {},
   "outputs": [],
   "source": [
    "for row in discord_prompt_dataframe.iterrows():\n",
    "    "
   ]
  },
  {
   "cell_type": "code",
   "execution_count": 62,
   "id": "9d1aa855-b4cd-423a-b8f3-7dd26d4fd578",
   "metadata": {},
   "outputs": [],
   "source": [
    "prompt_dataframe = pd.DataFrame.from_records(rows)"
   ]
  },
  {
   "cell_type": "code",
   "execution_count": 31,
   "id": "cc4583da-fe38-4aca-8a0e-bf396d65eebf",
   "metadata": {},
   "outputs": [
    {
     "data": {
      "text/plain": [
       "3"
      ]
     },
     "execution_count": 31,
     "metadata": {},
     "output_type": "execute_result"
    }
   ],
   "source": [
    "len(prompt_dataframe.loc[prompt_dataframe['cfg'] != 7.0])"
   ]
  },
  {
   "cell_type": "code",
   "execution_count": 30,
   "id": "99e45a16-65b6-4e43-ae9e-6526e4d2e277",
   "metadata": {},
   "outputs": [],
   "source": [
    "#file_path = os.path.join(sd_discord, file_name)\n",
    "prompt_dataframe.to_csv(file_path)"
   ]
  },
  {
   "cell_type": "code",
   "execution_count": null,
   "id": "8e801790-8023-46e8-9ec3-44af5090a4fd",
   "metadata": {},
   "outputs": [],
   "source": [
    "prompt_dataframe.describe()"
   ]
  },
  {
   "cell_type": "code",
   "execution_count": 39,
   "id": "36c75bc8-84fe-43e2-9e9e-47b78fe7702c",
   "metadata": {},
   "outputs": [],
   "source": [
    "prompt_dataframe['img_path'] = \"\""
   ]
  },
  {
   "cell_type": "code",
   "execution_count": 40,
   "id": "40764e9d-6035-40ce-b23c-178476a8fd61",
   "metadata": {},
   "outputs": [
    {
     "name": "stdout",
     "output_type": "stream",
     "text": [
      "prompt                                                   moai\n",
      "cfg                                                       7.0\n",
      "width                                                     512\n",
      "height                                                    512\n",
      "num_imgs                                                    1\n",
      "sampler                                                 k_lms\n",
      "is_grid                                                 False\n",
      "steps                                                      50\n",
      "seed                                               2878504252\n",
      "urls        ['https://cdn.discordapp.com/attachments/10056...\n",
      "date                            2022-08-07T00:14:18.668+00:00\n",
      "user                                             oliveoil2222\n",
      "img_path                                                     \n",
      "Name: 0, dtype: object\n"
     ]
    }
   ],
   "source": [
    "print(prompt_dataframe.loc[0])"
   ]
  },
  {
   "cell_type": "code",
   "execution_count": null,
   "id": "45ffba08-dce4-461f-ad7b-8232dcc991c1",
   "metadata": {},
   "outputs": [],
   "source": [
    "import shutil\n",
    "import requests\n",
    "\n",
    "def save_img(url, path):\n",
    "    prompt_dataframe.loc[idx,\"urls\"]\n",
    "    start = url.find(\"['\") + 2\n",
    "    end = url.find(\"'\",start+1)\n",
    "    url = url[start:end]\n",
    "    response = requests.get(url, stream=True)\n",
    "    with open(path, 'wb') as out_file:\n",
    "        shutil.copyfileobj(response.raw, out_file)\n",
    "    del response\n",
    "\n",
    "import requests\n",
    "img_dir = \"sd_discord/imgs\"\n",
    "\n",
    "for idx in prompt_dataframe.index:\n",
    "    if idx % 10000 == 0:\n",
    "        print(f\"{idx} of {len(prompt_dataframe)} finished\")\n",
    "    img_path = get_default_path(img_dir, f\"{idx}.png\")\n",
    "    save_img(prompt_dataframe.loc[idx,\"urls\"], img_path)\n",
    "    prompt_dataframe.loc[idx, 'img_path'] = img_path"
   ]
  },
  {
   "cell_type": "code",
   "execution_count": 60,
   "id": "9eb946a8-da90-4076-a154-bf1425c9ef8e",
   "metadata": {},
   "outputs": [],
   "source": [
    "prompt_dataframe.to_csv(file_path)"
   ]
  },
  {
   "cell_type": "code",
   "execution_count": 59,
   "id": "e4f6e76b-4f66-4601-a5d4-10b6a36240d4",
   "metadata": {},
   "outputs": [
    {
     "name": "stdout",
     "output_type": "stream",
     "text": [
      "1564635\n"
     ]
    }
   ],
   "source": [
    "print(len(prompt_dataframe[prompt_dataframe['img_path'] == \"\"]))"
   ]
  }
 ],
 "metadata": {
  "kernelspec": {
   "display_name": "stable-disco",
   "language": "python",
   "name": "stable-disco"
  },
  "language_info": {
   "codemirror_mode": {
    "name": "ipython",
    "version": 3
   },
   "file_extension": ".py",
   "mimetype": "text/x-python",
   "name": "python",
   "nbconvert_exporter": "python",
   "pygments_lexer": "ipython3",
   "version": "3.8.5"
  }
 },
 "nbformat": 4,
 "nbformat_minor": 5
}
